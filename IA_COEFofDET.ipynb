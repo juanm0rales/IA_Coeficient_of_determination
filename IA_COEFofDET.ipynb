{
  "nbformat": 4,
  "nbformat_minor": 0,
  "metadata": {
    "colab": {
      "name": "IA_COEFofDET.ipynb",
      "provenance": [],
      "collapsed_sections": []
    },
    "kernelspec": {
      "name": "python3",
      "display_name": "Python 3"
    },
    "language_info": {
      "name": "python"
    }
  },
  "cells": [
    {
      "cell_type": "markdown",
      "metadata": {
        "id": "pIpuAHzMAeMO"
      },
      "source": [
        "**JUAN DAVID MORALES BAUTISTA**\n",
        "\n",
        "**INTELIGENCIA ARTIFICIAL**\n",
        "\n",
        "**PUJ_2021_2**\n",
        "\n",
        "**TAREA COEFFICIENT OF DETERMINATION**"
      ]
    },
    {
      "cell_type": "markdown",
      "metadata": {
        "id": "4-bryDle9dRh"
      },
      "source": [
        "Importacion de Librerias\n"
      ]
    },
    {
      "cell_type": "code",
      "metadata": {
        "id": "9jFMGlMWv8eE"
      },
      "source": [
        "#Aqui se insertan las librerias necesarias\n",
        "import numpy as np\n",
        "import matplotlib.pyplot as plt\n",
        "from sklearn.metrics import r2_score\n",
        "import time\n",
        "import pandas as pd"
      ],
      "execution_count": null,
      "outputs": []
    },
    {
      "cell_type": "markdown",
      "metadata": {
        "id": "b35VI6IO9h3t"
      },
      "source": [
        "Importacion de valores de voltaje y corriente\n"
      ]
    },
    {
      "cell_type": "code",
      "metadata": {
        "id": "FZEz047E0pOB"
      },
      "source": [
        "#Datos de voltaje\n",
        "Volts=np.array([1,1.5,2,2.5,3,3.5,4,4.5,5,5.5,6])\n",
        "#Datos de corriente\n",
        "Amps=np.array([0.169610272,0.283395813,0.386358738,0.470227872,0.433281294,0.600267648,0.73833898,0.79031502,0.877464268,0.843564462,0.964438917])"
      ],
      "execution_count": null,
      "outputs": []
    },
    {
      "cell_type": "markdown",
      "metadata": {
        "id": "_9QxLDgO9lH1"
      },
      "source": [
        "Transformacion de vectores a matrices\n"
      ]
    },
    {
      "cell_type": "code",
      "metadata": {
        "id": "g7R8MU7DwrcB"
      },
      "source": [
        "#Aqui se realiza la transformacion de los vectores de volt y corriente a las matrices necesarias para hallar la regresion\n",
        "x1=Volts;\n",
        "x0=[1,1,1,1,1,1,1,1,1,1,1]\n",
        "VoltsCol=np.matrix([x0,x1]).T\n",
        "AmpsCol=np.matrix([y]).T\n"
      ],
      "execution_count": null,
      "outputs": []
    },
    {
      "cell_type": "markdown",
      "metadata": {
        "id": "bQijHE0w9tfz"
      },
      "source": [
        "Ecuacion de la regresion"
      ]
    },
    {
      "cell_type": "code",
      "metadata": {
        "id": "7w_Mf3MC9Nt_",
        "colab": {
          "base_uri": "https://localhost:8080/",
          "height": 315
        },
        "outputId": "52598106-e510-4b95-9f94-e3923943d992"
      },
      "source": [
        "\n",
        "#Ecuacion Normal Para una Regresión Lineal:\n",
        "Theta=((np.linalg.inv((VoltsCol.T)*VoltsCol))*((VoltsCol.T)*AmpsCol))\n",
        "#Ecuacion de la recta\n",
        "Y=Theta[0,0]+Theta[1,0]*x1\n",
        "#Grafica de la regresión\n",
        "plt.title(\"Regresión lineal de predicción\")\n",
        "plt.plot(x1,Y)\n",
        "plt.show()\n",
        "Th0=Theta[0]\n",
        "Th1=Theta[1]\n",
        "print(\"Valores de theta obtenidos:\")\n",
        "print(Th0,Th1)\n"
      ],
      "execution_count": null,
      "outputs": [
        {
          "output_type": "display_data",
          "data": {
            "image/png": "[encoded data removed]",
            "text/plain": [
              "<Figure size 432x288 with 1 Axes>"
            ]
          },
          "metadata": {
            "needs_background": "light"
          }
        },
        {
          "output_type": "stream",
          "name": "stdout",
          "text": [
            "Valores de theta obtenidos:\n",
            "[[0.0467188]] [[0.1569703]]\n"
          ]
        }
      ]
    },
    {
      "cell_type": "markdown",
      "metadata": {
        "id": "8S8wAaqT9wtC"
      },
      "source": [
        "Operaciones para hallar el Coefficient of Determination R2"
      ]
    },
    {
      "cell_type": "code",
      "metadata": {
        "id": "Vq7jiz8g93uq",
        "colab": {
          "base_uri": "https://localhost:8080/"
        },
        "outputId": "ab412a2b-419b-430c-bdf6-304215abd15b"
      },
      "source": [
        "## Se encuentra el coeficiente de determinación a partir de los parametros\n",
        "Theta0=0.0467188\n",
        "Theta1=0.1569703\n",
        "##Se realiza la ecuacion de coeficiente de determinacion\n",
        "yi=Theta0+Theta1*Volts\n",
        "yp= np.sum(Amps)/len(Amps)\n",
        "E= np.sum((Amps-yi)**2)\n",
        "T= np.sum((Amps-yp)**2)\n",
        "R2= 1- E/T\n",
        "print(\"Coefficient of Determination R2 es:\",R2)"
      ],
      "execution_count": null,
      "outputs": [
        {
          "output_type": "stream",
          "name": "stdout",
          "text": [
            "Coefficient of Determination R2 es: 0.9678913146368406\n"
          ]
        }
      ]
    }
  ]
}